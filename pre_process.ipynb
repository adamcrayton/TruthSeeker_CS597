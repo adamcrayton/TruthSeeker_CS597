{
 "cells": [
  {
   "cell_type": "code",
   "execution_count": 1,
   "id": "0cdd862a-5685-49bd-8689-2df8536eacf6",
   "metadata": {},
   "outputs": [],
   "source": [
    "import pandas as pd"
   ]
  },
  {
   "cell_type": "code",
   "execution_count": 2,
   "id": "1d68bc7a-dfaa-4641-96fa-d437707bd5f6",
   "metadata": {},
   "outputs": [],
   "source": [
    "df = pd.read_csv('./dataset/TruthSeeker2023/Truth_Seeker_Model_Dataset.csv')"
   ]
  },
  {
   "cell_type": "code",
   "execution_count": 23,
   "id": "a99a0218-ed50-46ba-93bd-44a9048c1629",
   "metadata": {},
   "outputs": [
    {
     "data": {
      "text/plain": [
       "Index(['Unnamed: 0', 'author', 'statement', 'target', 'BinaryNumTarget',\n",
       "       'manual_keywords', 'tweet', '5_label_majority_answer',\n",
       "       '3_label_majority_answer', '4-way-label', '2-way-label'],\n",
       "      dtype='object')"
      ]
     },
     "execution_count": 23,
     "metadata": {},
     "output_type": "execute_result"
    }
   ],
   "source": [
    "df.columns"
   ]
  },
  {
   "cell_type": "code",
   "execution_count": 3,
   "id": "7d2c808c-3bc2-44ee-bd03-807711d7c5c4",
   "metadata": {},
   "outputs": [
    {
     "data": {
      "text/plain": [
       "134198"
      ]
     },
     "execution_count": 3,
     "metadata": {},
     "output_type": "execute_result"
    }
   ],
   "source": [
    "len(df)"
   ]
  },
  {
   "cell_type": "code",
   "execution_count": 4,
   "id": "3ad4e20e-d398-4efe-a3a6-cd44cc82aa14",
   "metadata": {},
   "outputs": [],
   "source": [
    "#Remove \n",
    "df = df[~df['5_label_majority_answer'].isin(['NO MAJORITY'])]"
   ]
  },
  {
   "cell_type": "code",
   "execution_count": 5,
   "id": "ceb98998-0094-494b-a91a-ab9bc6b48c4a",
   "metadata": {},
   "outputs": [
    {
     "data": {
      "text/plain": [
       "111593"
      ]
     },
     "execution_count": 5,
     "metadata": {},
     "output_type": "execute_result"
    }
   ],
   "source": [
    "len(df)"
   ]
  },
  {
   "cell_type": "code",
   "execution_count": 9,
   "id": "190d61ca-9075-4889-a529-c39fb9c0d2ba",
   "metadata": {},
   "outputs": [],
   "source": [
    "def generate_truthfulness_4way(row):\n",
    "    if row['target'] == True:\n",
    "        if row['5_label_majority_answer'] == 'Agree':\n",
    "            return \"True\"\n",
    "        elif row['5_label_majority_answer'] == 'Disagree':\n",
    "            return \"False\"\n",
    "        elif row['5_label_majority_answer'] == 'Mostly Agree':\n",
    "            return \"Mostly True\"\n",
    "        elif row['5_label_majority_answer'] == 'Mostly Disagree':\n",
    "            return \"Mostly False\"\n",
    "    else:\n",
    "        if row['5_label_majority_answer'] == 'Agree':\n",
    "            return \"False\"\n",
    "        elif row['5_label_majority_answer'] == 'Disagree':\n",
    "            return \"True\"\n",
    "        elif row['5_label_majority_answer'] == 'Mostly Agree':\n",
    "            return \"Mostly False\"\n",
    "        elif row['5_label_majority_answer'] == 'Mostly Disagree':\n",
    "            return \"Mostly True\"\n",
    "\n",
    "def generate_truthfulness_2way(row):\n",
    "    if row['target'] == True:\n",
    "        if row['3_label_majority_answer'] == 'Agree':\n",
    "            return \"True\"\n",
    "        elif row['3_label_majority_answer'] == 'Disagree':\n",
    "            return \"False\"\n",
    "    else:\n",
    "        if row['3_label_majority_answer'] == 'Agree':\n",
    "            return \"False\"\n",
    "        elif row['3_label_majority_answer'] == 'Disagree':\n",
    "            return \"True\"\n",
    "        "
   ]
  },
  {
   "cell_type": "code",
   "execution_count": 10,
   "id": "ac084b9c-0c32-4c5a-89be-f82755faf32c",
   "metadata": {},
   "outputs": [],
   "source": [
    "df['4-way-label'] = df.apply(lambda x: generate_truthfulness_4way(x), axis=1)\n",
    "df['2-way-label'] = df.apply(lambda x: generate_truthfulness_2way(x), axis=1)"
   ]
  },
  {
   "cell_type": "code",
   "execution_count": 13,
   "id": "543d61fe-0d06-4061-9211-a5012f8d5e7e",
   "metadata": {},
   "outputs": [],
   "source": [
    "df.to_csv('dataset/TruthSeeker2023/TruthseekerCleaned.csv', index = False)"
   ]
  },
  {
   "cell_type": "code",
   "execution_count": null,
   "id": "ae163702-f778-430a-b99d-2f43a8797e4b",
   "metadata": {},
   "outputs": [],
   "source": []
  }
 ],
 "metadata": {
  "kernelspec": {
   "display_name": "Python 3 (ipykernel)",
   "language": "python",
   "name": "python3"
  },
  "language_info": {
   "codemirror_mode": {
    "name": "ipython",
    "version": 3
   },
   "file_extension": ".py",
   "mimetype": "text/x-python",
   "name": "python",
   "nbconvert_exporter": "python",
   "pygments_lexer": "ipython3",
   "version": "3.8.18"
  }
 },
 "nbformat": 4,
 "nbformat_minor": 5
}
